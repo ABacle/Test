{
 "metadata": {
  "name": "",
  "signature": "sha256:4a260727678b6213a0749bfc7fabba4c9c373c391dfb19d2f6239c869d3cf72e"
 },
 "nbformat": 3,
 "nbformat_minor": 0,
 "worksheets": [
  {
   "cells": [
    {
     "cell_type": "code",
     "collapsed": false,
     "input": [
      "import mdtraj as md\n",
      "import numpy as np\n",
      "import math"
     ],
     "language": "python",
     "metadata": {},
     "outputs": [],
     "prompt_number": 139
    },
    {
     "cell_type": "code",
     "collapsed": false,
     "input": [
      "pdb = md.load_xtc('md_OK.xtc', 'start.gro')"
     ],
     "language": "python",
     "metadata": {},
     "outputs": [],
     "prompt_number": 140
    },
    {
     "cell_type": "code",
     "collapsed": false,
     "input": [
      "topology = pdb.topology\n",
      "t_prot = pdb.atom_slice(topology.select(\"protein\"))\n",
      "t_prot[0].xyz[0][:3]"
     ],
     "language": "python",
     "metadata": {},
     "outputs": [
      {
       "metadata": {},
       "output_type": "pyout",
       "prompt_number": 142,
       "text": [
        "array([[ 0.63800001,  2.63000011,  5.46000004],\n",
        "       [ 0.69400001,  2.63200021,  5.3760004 ],\n",
        "       [ 0.565     ,  2.56100011,  5.4550004 ]], dtype=float32)"
       ]
      }
     ],
     "prompt_number": 142
    },
    {
     "cell_type": "code",
     "collapsed": false,
     "input": [
      "com = md.compute_center_of_mass(t_prot)\n",
      "com.shape"
     ],
     "language": "python",
     "metadata": {},
     "outputs": [
      {
       "metadata": {},
       "output_type": "pyout",
       "prompt_number": 143,
       "text": [
        "(2001, 3)"
       ]
      }
     ],
     "prompt_number": 143
    },
    {
     "cell_type": "code",
     "collapsed": false,
     "input": [
      "t_prot.center_coordinates(True)\n"
     ],
     "language": "python",
     "metadata": {},
     "outputs": [
      {
       "metadata": {},
       "output_type": "pyout",
       "prompt_number": 144,
       "text": [
        "<mdtraj.Trajectory with 2001 frames, 459 atoms, 33 residues, and unitcells at 0x10613b350>"
       ]
      }
     ],
     "prompt_number": 144
    },
    {
     "cell_type": "code",
     "collapsed": false,
     "input": [
      "t_prot[0].save_pdb(\"center_traj.pdb\")"
     ],
     "language": "python",
     "metadata": {},
     "outputs": [],
     "prompt_number": 145
    },
    {
     "cell_type": "code",
     "collapsed": false,
     "input": [
      "def get_inertia_axis(traj, eigen_index = 0):\n",
      "    vec_frame = []\n",
      "    #center around the origin\n",
      "    traj.center_coordinates(True)\n",
      "    for frame in traj:\n",
      "        coor = frame.xyz[0]\n",
      "        #get inertia matrix 3x3\n",
      "        Y = np.dot(np.transpose(coor) , coor)\n",
      "        eigenvalues = np.linalg.eig(Y)[0]\n",
      "        eigenvectors = np.linalg.eig(Y)[1]\n",
      "        index_eigenvalues_sorted = list(np.argsort(eigenvalues))\n",
      "        # reverse order cause argsort sorts out in crescent order\n",
      "        index_eigenvalues_sorted.reverse()\n",
      "        vec_frame.append([eigenvectors[:,index_eigenvalues_sorted[eigen_index]]])\n",
      "    return vec_frame"
     ],
     "language": "python",
     "metadata": {},
     "outputs": [],
     "prompt_number": 146
    },
    {
     "cell_type": "code",
     "collapsed": false,
     "input": [
      "t = np.dot(np.transpose(t_prot[0].xyz[0]), t_prot[0].xyz[0])\n",
      "t.shape\n",
      "val = np.linalg.eig(t)[0]\n",
      "vec = np.linalg.eig(t)[1]\n",
      "ind = list(np.argsort(val))\n",
      "ind.reverse()\n",
      "vec[:, ind[0]]"
     ],
     "language": "python",
     "metadata": {},
     "outputs": [
      {
       "metadata": {},
       "output_type": "pyout",
       "prompt_number": 8,
       "text": [
        "array([-0.99377984, -0.06400486,  0.09113201], dtype=float32)"
       ]
      }
     ],
     "prompt_number": 8
    },
    {
     "cell_type": "code",
     "collapsed": false,
     "input": [
      "axis = get_inertia_axis(t_prot)\n",
      "axis2 = get_inertia_axis(t_prot, 1)\n",
      "axis3 = get_inertia_axis(t_prot, 2)"
     ],
     "language": "python",
     "metadata": {},
     "outputs": [],
     "prompt_number": 147
    },
    {
     "cell_type": "code",
     "collapsed": false,
     "input": [
      "axis[0][0]*20\n",
      "\n",
      "t_prot[0].xyz[0][:3]"
     ],
     "language": "python",
     "metadata": {},
     "outputs": [
      {
       "metadata": {},
       "output_type": "pyout",
       "prompt_number": 148,
       "text": [
        "array([[-2.47532725, -0.3300212 ,  0.12115361],\n",
        "       [-2.41932726, -0.32802111,  0.03715397],\n",
        "       [-2.54832721, -0.39902121,  0.11615397]], dtype=float32)"
       ]
      }
     ],
     "prompt_number": 148
    },
    {
     "cell_type": "code",
     "collapsed": false,
     "input": [
      "def vmd_line(axis):\n",
      "    x = axis[0] * 20\n",
      "    y = axis[1] * 20\n",
      "    z = axis[2] * 20\n",
      "    print \"graphics 0 line {0 0 0} {%f %f %f}  width 3 style solid\" %(x,y,z)"
     ],
     "language": "python",
     "metadata": {},
     "outputs": [],
     "prompt_number": 149
    },
    {
     "cell_type": "code",
     "collapsed": false,
     "input": [
      "vmd_line(axis[0][0])\n",
      "vmd_line(axis2[0][0])\n",
      "vmd_line(axis3[0][0])"
     ],
     "language": "python",
     "metadata": {},
     "outputs": [
      {
       "output_type": "stream",
       "stream": "stdout",
       "text": [
        "graphics 0 line {0 0 0} {-19.875597 -1.280097 1.822640}  width 3 style solid\n",
        "graphics 0 line {0 0 0} {0.873116 10.578574 16.950854}  width 3 style solid\n",
        "graphics 0 line {0 0 0} {-2.048984 16.924986 -10.456889}  width 3 style solid\n"
       ]
      }
     ],
     "prompt_number": 150
    },
    {
     "cell_type": "code",
     "collapsed": false,
     "input": [
      "\n",
      "\n",
      "def angle_between(a,b):\n",
      "  arccosInput = np.dot(a,b)/np.linalg.norm(a)/np.linalg.norm(b)\n",
      "  arccosInput = 1.0 if arccosInput > 1.0 else arccosInput\n",
      "  arccosInput = -1.0 if arccosInput < -1.0 else arccosInput\n",
      "  return rad_to_deg(math.acos(arccosInput))"
     ],
     "language": "python",
     "metadata": {},
     "outputs": [],
     "prompt_number": 151
    },
    {
     "cell_type": "code",
     "collapsed": false,
     "input": [
      "def deg_to_rad(deg):\n",
      "    return deg * np.pi / 180"
     ],
     "language": "python",
     "metadata": {},
     "outputs": [],
     "prompt_number": 152
    },
    {
     "cell_type": "code",
     "collapsed": false,
     "input": [
      "def rad_to_deg(rad):\n",
      "    return rad * 180 / np.pi"
     ],
     "language": "python",
     "metadata": {},
     "outputs": [],
     "prompt_number": 153
    },
    {
     "cell_type": "code",
     "collapsed": false,
     "input": [
      "X = [1., 0., 0.]\n",
      "Y = [0., 1., 0.]\n",
      "Z = [0., 0., 1.]\n",
      "PLAN = [X, Y, Z]\n",
      "def angles_with_plan(axis):\n",
      "    angles = []\n",
      "    for axe in PLAN:\n",
      "         angles.append(angle_between(axis, axe))\n",
      "    return angles"
     ],
     "language": "python",
     "metadata": {},
     "outputs": [],
     "prompt_number": 154
    },
    {
     "cell_type": "code",
     "collapsed": false,
     "input": [
      "print angles_with_plan(axis[0][0])\n",
      "print angles_with_plan(axis2[0][0])\n",
      "print angles_with_plan(axis3[0][0])"
     ],
     "language": "python",
     "metadata": {},
     "outputs": [
      {
       "output_type": "stream",
       "stream": "stdout",
       "text": [
        "[173.60612933010043, 93.66971645378132, 84.77126600929198]\n",
        "[87.49791098980947, 58.06690025180484, 32.054602329445636]\n",
        "[95.88022261655405, 32.19396578095924, 121.52324462640344]\n"
       ]
      }
     ],
     "prompt_number": 155
    },
    {
     "cell_type": "code",
     "collapsed": false,
     "input": [
      "def get_mat_rot(axis, theta):\n",
      "    if axis == 0: #X\n",
      "        return np.array([[1,     0,          0],\n",
      "                       [0, np.cos(THETA), -np.sin(THETA)],\n",
      "                       [0, np.sin(THETA), np.cos(THETA)]])\n",
      "    if axis == 1: #Y\n",
      "        return [[np.cos(THETA), 0, np.sin(THETA)],\n",
      "               [0,             1, 0],\n",
      "               [-np.sin(THETA),0,np.cos(THETA)]]\n",
      "    if axis == 2: #Z\n",
      "        return [[np.cos(THETA), -np.sin(THETA), 0],\n",
      "               [np.sin(THETA), np.cos(THETA), 0],\n",
      "               [0,              0,            1]]"
     ],
     "language": "python",
     "metadata": {},
     "outputs": [],
     "prompt_number": 172
    },
    {
     "cell_type": "code",
     "collapsed": false,
     "input": [
      "THETA = 173\n",
      "coor = t_prot[0].xyz[0][0]\n",
      "print coor\n",
      "np.dot(coor, get_mat_rot(0, 173))"
     ],
     "language": "python",
     "metadata": {},
     "outputs": [
      {
       "output_type": "stream",
       "stream": "stdout",
       "text": [
        "[-2.47532725 -0.3300212   0.12115361]\n"
       ]
      },
      {
       "metadata": {},
       "output_type": "pyout",
       "prompt_number": 178,
       "text": [
        "array([-2.47532725,  0.29706416, -0.18800286])"
       ]
      }
     ],
     "prompt_number": 178
    },
    {
     "cell_type": "code",
     "collapsed": false,
     "input": [
      "np.dot(t_prot[:].xyz,R_x).shape\n"
     ],
     "language": "python",
     "metadata": {},
     "outputs": [
      {
       "metadata": {},
       "output_type": "pyout",
       "prompt_number": 103,
       "text": [
        "(2001, 459, 3)"
       ]
      }
     ],
     "prompt_number": 103
    },
    {
     "cell_type": "code",
     "collapsed": false,
     "input": [
      "def do_rotation(traj, axis, theta):\n",
      "    mat_rot = get_mat_rot(0, theta)\n",
      "    return np.dot(traj[:].xyz, mat_rot)"
     ],
     "language": "python",
     "metadata": {},
     "outputs": [],
     "prompt_number": 174
    },
    {
     "cell_type": "code",
     "collapsed": false,
     "input": [
      "rot = do_rotation(t_prot, R_x, 173)\n",
      "print rot[0]"
     ],
     "language": "python",
     "metadata": {},
     "outputs": [
      {
       "output_type": "stream",
       "stream": "stdout",
       "text": [
        "[[-2.47532725  0.29706416 -0.18800286]\n",
        " [-2.41932726  0.31281702 -0.10546932]\n",
        " [-2.54832721  0.3655675  -0.19766151]\n",
        " ..., \n",
        " [ 1.96067321 -0.67709845 -0.34107925]\n",
        " [ 1.90067327 -0.59302957 -0.41138186]\n",
        " [ 1.9476732  -0.80143493 -0.35313891]]\n"
       ]
      }
     ],
     "prompt_number": 180
    },
    {
     "cell_type": "code",
     "collapsed": false,
     "input": [
      "a = np.array([0.0, 10.0, 20.0, 30.0])\n",
      "print a[:, np.newaxis] * 3"
     ],
     "language": "python",
     "metadata": {},
     "outputs": [
      {
       "output_type": "stream",
       "stream": "stdout",
       "text": [
        "[[  0.]\n",
        " [ 30.]\n",
        " [ 60.]\n",
        " [ 90.]]\n"
       ]
      }
     ],
     "prompt_number": 179
    },
    {
     "cell_type": "code",
     "collapsed": false,
     "input": [
      "t_prot.xyz = rot"
     ],
     "language": "python",
     "metadata": {},
     "outputs": [],
     "prompt_number": 181
    },
    {
     "cell_type": "code",
     "collapsed": false,
     "input": [
      "t_prot[0].xyz[0][:3]\n"
     ],
     "language": "python",
     "metadata": {},
     "outputs": [
      {
       "metadata": {},
       "output_type": "pyout",
       "prompt_number": 182,
       "text": [
        "array([[-2.47532725,  0.29706416, -0.18800285],\n",
        "       [-2.41932726,  0.31281701, -0.10546932],\n",
        "       [-2.54832721,  0.36556751, -0.1976615 ]], dtype=float32)"
       ]
      }
     ],
     "prompt_number": 182
    },
    {
     "cell_type": "code",
     "collapsed": false,
     "input": [
      "t_prot[0].save_pdb(\"traj_rot_X.pdb\")"
     ],
     "language": "python",
     "metadata": {},
     "outputs": [],
     "prompt_number": 183
    },
    {
     "cell_type": "code",
     "collapsed": false,
     "input": [
      "axis = get_inertia_axis(t_prot)\n",
      "axis2 = get_inertia_axis(t_prot, 1)\n",
      "axis3 = get_inertia_axis(t_prot, 2)\n",
      "print angles_with_plan(axis[0][0])\n",
      "print angles_with_plan(axis2[0][0])\n",
      "print angles_with_plan(axis3[0][0])"
     ],
     "language": "python",
     "metadata": {},
     "outputs": [
      {
       "output_type": "stream",
       "stream": "stdout",
       "text": [
        "[173.60612933010043, 87.51516928892023, 95.88757863760524]\n",
        "[92.50208986477891, 45.91594945927208, 44.19329406273921]\n",
        "[84.11977781259081, 44.19179490737564, 133.5899652792209]\n"
       ]
      }
     ],
     "prompt_number": 184
    }
   ],
   "metadata": {}
  }
 ]
}